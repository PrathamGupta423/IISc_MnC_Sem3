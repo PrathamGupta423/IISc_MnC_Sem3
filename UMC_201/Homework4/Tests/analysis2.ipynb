{
 "cells": [
  {
   "cell_type": "code",
   "execution_count": 1,
   "metadata": {},
   "outputs": [],
   "source": [
    "import random"
   ]
  },
  {
   "cell_type": "markdown",
   "metadata": {},
   "source": [
    "### cn of 1 type , other random"
   ]
  },
  {
   "cell_type": "code",
   "execution_count": 30,
   "metadata": {},
   "outputs": [],
   "source": [
    "def make_test(n,m,c,max_num,i1):\n",
    "\n",
    "    data_set = set()\n",
    "    while len(data_set) < n:\n",
    "        data_set.add(random.randint(0, max_num))\n",
    "    data = list(data_set)\n",
    "    \n",
    "    const_ind = random.randint(0, n-1)\n",
    "    const_num = data[const_ind]\n",
    "\n",
    "    index = set()\n",
    "    while len(index) <= int(n*c)+1:\n",
    "        index.add(random.randint(0, m-1))\n",
    "    index = list(index)\n",
    "    \n",
    "    \n",
    "    # for i in range(i):\n",
    "    #     index.append(random.randint(0, m-1))\n",
    "    \n",
    "    querry = []\n",
    "    for i in range(m):\n",
    "        if i in index:\n",
    "            querry.append(const_num)\n",
    "        else:\n",
    "            querry.append(random.randint(0, max_num))\n",
    "    \n",
    "    file = open(\"input\"+str(i1)+\".txt\", \"w\")\n",
    "    file.write(str(n) + \"\\n\")\n",
    "    for i in range(n):\n",
    "        file.write(str(data[i]) + \" \")\n",
    "    file.write(\"\\n\")\n",
    "    file.write(str(const_num) + \"\\n\")\n",
    "    # file.write(\"\\n\")\n",
    "    file.write(str(m) + \"\\n\")\n",
    "    for i in range(m):\n",
    "        file.write(str(querry[i]) + \" \")\n",
    "    file.write(\"\\n\")\n",
    "    file.write(str(c))\n",
    "    \n",
    "    file.close()\n",
    "\n",
    "    "
   ]
  },
  {
   "cell_type": "markdown",
   "metadata": {},
   "source": [
    "### For diff n"
   ]
  },
  {
   "cell_type": "code",
   "execution_count": 31,
   "metadata": {},
   "outputs": [],
   "source": [
    "n = 10\n",
    "c = 0.05\n",
    "max_num = 50\n",
    "mi = 100\n",
    "j = 1\n",
    "k = 20\n",
    "b = 10\n",
    "for i in range(10,20,1):\n",
    "    make_test(i, mi, c, max_num, j)\n",
    "    j+=1\n"
   ]
  },
  {
   "cell_type": "markdown",
   "metadata": {},
   "source": [
    "### For diff m"
   ]
  },
  {
   "cell_type": "code",
   "execution_count": null,
   "metadata": {},
   "outputs": [],
   "source": [
    "n = 1000\n",
    "c = 0.2\n",
    "max_num = 100000\n",
    "mi = 10000\n",
    "j = 1\n",
    "for i in range(100000, 1000001, 50000):\n",
    "    make_test(n, i, c, max_num, j)\n",
    "    j+=1"
   ]
  },
  {
   "cell_type": "markdown",
   "metadata": {},
   "source": [
    "### For different c"
   ]
  },
  {
   "cell_type": "code",
   "execution_count": null,
   "metadata": {},
   "outputs": [],
   "source": [
    "n = 1000\n",
    "c = 0.2\n",
    "max_num = 100000\n",
    "mi = 100000\n",
    "j = 1\n",
    "for i in range(0,1.05,0.05):\n",
    "    make_test(n, mi, i, max_num, j)\n",
    "    j+=1"
   ]
  },
  {
   "cell_type": "markdown",
   "metadata": {},
   "source": [
    "### 2nd ele c2 time n --- 2 cases\n"
   ]
  },
  {
   "cell_type": "markdown",
   "metadata": {},
   "source": [
    "### cyclic order"
   ]
  },
  {
   "cell_type": "markdown",
   "metadata": {},
   "source": [
    "### All same"
   ]
  },
  {
   "cell_type": "code",
   "execution_count": 33,
   "metadata": {},
   "outputs": [],
   "source": [
    "# delete files\n",
    "import os\n",
    "for i in range(10):\n",
    "    os.remove(\"input\"+str(i)+\".txt\")\n"
   ]
  }
 ],
 "metadata": {
  "kernelspec": {
   "display_name": "Python 3",
   "language": "python",
   "name": "python3"
  },
  "language_info": {
   "codemirror_mode": {
    "name": "ipython",
    "version": 3
   },
   "file_extension": ".py",
   "mimetype": "text/x-python",
   "name": "python",
   "nbconvert_exporter": "python",
   "pygments_lexer": "ipython3",
   "version": "3.10.12"
  }
 },
 "nbformat": 4,
 "nbformat_minor": 2
}
