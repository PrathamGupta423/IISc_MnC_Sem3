{
 "cells": [
  {
   "cell_type": "code",
   "execution_count": 2,
   "metadata": {},
   "outputs": [],
   "source": [
    "import random"
   ]
  },
  {
   "cell_type": "code",
   "execution_count": 3,
   "metadata": {},
   "outputs": [],
   "source": [
    "def make_test(n,m,c,max_num,i1):\n",
    "    index = []\n",
    "    for i in range(int(c*n)):\n",
    "        num = random.randint(0, n-1)\n",
    "        if num not in index:\n",
    "            index.append(num)\n",
    "\n",
    "    data = []\n",
    "    const_num = random.randint(0, max_num)\n",
    "    for i in range(n):\n",
    "        if i in index:\n",
    "            data.append(const_num)\n",
    "        else:\n",
    "            data.append(random.randint(0, max_num))\n",
    "    \n",
    "    indexed_data = []\n",
    "    for i in range(int(m)):\n",
    "        num = random.randint(0, m-1)\n",
    "        if num not in index:\n",
    "            index.append(num)\n",
    "    \n",
    "    querry = []\n",
    "    for i in range(m):\n",
    "        if i in index:\n",
    "            querry.append(const_num)\n",
    "        else:\n",
    "            querry.append(random.randint(0, max_num))\n",
    "    \n",
    "    file = open(\"input\"+str(i1)+\".txt\", \"w\")\n",
    "    file.write(str(n) + \"\\n\")\n",
    "    for i in range(n):\n",
    "        file.write(str(data[i]) + \" \")\n",
    "    file.write(\"\\n\")\n",
    "    file.write(str(m) + \"\\n\")\n",
    "    for i in range(m):\n",
    "        file.write(str(querry[i]) + \" \")\n",
    "    file.write(\"\\n\")\n",
    "    file.close()\n",
    "\n",
    "    "
   ]
  },
  {
   "cell_type": "code",
   "execution_count": 5,
   "metadata": {},
   "outputs": [],
   "source": [
    "n = 10\n",
    "c = 0.2\n",
    "max_num = 10\n",
    "mi = n*n\n",
    "for i in range(10):\n",
    "    make_test(n, mi+n*i, c, max_num, i)\n"
   ]
  },
  {
   "cell_type": "code",
   "execution_count": 33,
   "metadata": {},
   "outputs": [],
   "source": [
    "# delete files\n",
    "import os\n",
    "for i in range(10):\n",
    "    os.remove(\"input\"+str(i)+\".txt\")\n"
   ]
  },
  {
   "cell_type": "code",
   "execution_count": null,
   "metadata": {},
   "outputs": [],
   "source": []
  }
 ],
 "metadata": {
  "kernelspec": {
   "display_name": "Python 3",
   "language": "python",
   "name": "python3"
  },
  "language_info": {
   "codemirror_mode": {
    "name": "ipython",
    "version": 3
   },
   "file_extension": ".py",
   "mimetype": "text/x-python",
   "name": "python",
   "nbconvert_exporter": "python",
   "pygments_lexer": "ipython3",
   "version": "3.10.12"
  }
 },
 "nbformat": 4,
 "nbformat_minor": 2
}
