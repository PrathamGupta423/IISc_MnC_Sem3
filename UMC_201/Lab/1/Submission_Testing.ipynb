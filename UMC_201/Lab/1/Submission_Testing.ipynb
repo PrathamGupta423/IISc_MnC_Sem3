{
 "cells": [
  {
   "cell_type": "code",
   "execution_count": 1,
   "metadata": {},
   "outputs": [],
   "source": [
    "from heapq import *\n"
   ]
  },
  {
   "cell_type": "code",
   "execution_count": 2,
   "metadata": {},
   "outputs": [],
   "source": [
    "x = 100000\n",
    "y = 100000+3\n",
    "z = 100000**2\n",
    "z = z**(0.5)\n",
    "\n",
    "l = [x,y,z]"
   ]
  },
  {
   "cell_type": "code",
   "execution_count": 3,
   "metadata": {},
   "outputs": [],
   "source": [
    "heap = l[:]"
   ]
  },
  {
   "cell_type": "code",
   "execution_count": 4,
   "metadata": {},
   "outputs": [
    {
     "name": "stdout",
     "output_type": "stream",
     "text": [
      "[100000, 100003, 100000.0]\n",
      "140171858336688\n",
      "140171858338192\n",
      "140172141847760\n"
     ]
    }
   ],
   "source": [
    "print (heap)\n",
    "for i in heap:\n",
    "    print(id(i))"
   ]
  },
  {
   "cell_type": "code",
   "execution_count": 5,
   "metadata": {},
   "outputs": [
    {
     "name": "stdout",
     "output_type": "stream",
     "text": [
      "[100000.0, 100003, 100000]\n",
      "140172141847760\n",
      "140171858338192\n",
      "140171858336688\n"
     ]
    }
   ],
   "source": [
    "heapify(heap)\n",
    "print (heap)\n",
    "for i in heap:\n",
    "    print(id(i))"
   ]
  },
  {
   "cell_type": "code",
   "execution_count": 8,
   "metadata": {},
   "outputs": [],
   "source": [
    "def custom_heap(l:list) -> list:\n",
    "    heap_indexing_table = {}\n",
    "    n = len(l)\n",
    "    for i in range(n):\n",
    "        x = l[i]\n",
    "        if(x not in heap_indexing_table):\n",
    "            heap_indexing_table[x] = [[],0]\n",
    "        heap_indexing_table[x][0].append(i)\n",
    "    heap = l[:]\n",
    "    heapify(heap)\n",
    "    for i in range(n):\n",
    "        x = heap[i]\n",
    "        original_index = heap_indexing_table[x][0][heap_indexing_table[x][1]]\n",
    "        heap_indexing_table[x][1] += 1\n",
    "        heap[i] = l[original_index]\n",
    "    return heap"
   ]
  },
  {
   "cell_type": "code",
   "execution_count": 10,
   "metadata": {},
   "outputs": [
    {
     "name": "stdout",
     "output_type": "stream",
     "text": [
      "[100000, 100003, 100000.0]\n",
      "140171858336688\n",
      "140171858338192\n",
      "140172141847760\n"
     ]
    }
   ],
   "source": [
    "heap2 = l[:]\n",
    "print(heap2)\n",
    "for i in heap2:\n",
    "    print(id(i))\n",
    "    "
   ]
  },
  {
   "cell_type": "code",
   "execution_count": 11,
   "metadata": {},
   "outputs": [
    {
     "name": "stdout",
     "output_type": "stream",
     "text": [
      "[100000, 100003, 100000.0]\n",
      "140171858336688\n",
      "140171858338192\n",
      "140172141847760\n"
     ]
    }
   ],
   "source": [
    "heap2_change = custom_heap(heap2)\n",
    "print(heap2_change)\n",
    "for i in heap2_change:\n",
    "    print(id(i)) "
   ]
  },
  {
   "cell_type": "code",
   "execution_count": null,
   "metadata": {},
   "outputs": [],
   "source": []
  }
 ],
 "metadata": {
  "kernelspec": {
   "display_name": "Python 3",
   "language": "python",
   "name": "python3"
  },
  "language_info": {
   "codemirror_mode": {
    "name": "ipython",
    "version": 3
   },
   "file_extension": ".py",
   "mimetype": "text/x-python",
   "name": "python",
   "nbconvert_exporter": "python",
   "pygments_lexer": "ipython3",
   "version": "3.10.12"
  }
 },
 "nbformat": 4,
 "nbformat_minor": 2
}
